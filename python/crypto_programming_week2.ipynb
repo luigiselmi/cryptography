{
 "cells": [
  {
   "cell_type": "markdown",
   "metadata": {},
   "source": [
    "## Cryptography I -  Week 2"
   ]
  },
  {
   "cell_type": "markdown",
   "metadata": {},
   "source": [
    "### Problem Set\n",
    "In this project you will implement two encryption/decryption systems, one using AES in CBC mode and another using AES in counter mode (CTR). In both cases the 16-byte encryption IV is chosen at random and is prepended to the ciphertext.\n",
    "\n",
    "For CBC encryption we use the PKCS5 padding scheme discussed in the lecture (14:04). While we ask that you implement both encryption and decryption, we will only test the decryption function. In the following questions you are given an AES key and a ciphertext (both are hex encoded ) and your goal is to recover the plaintext and enter it in the input boxes provided below.\n",
    "\n",
    "For an implementation of AES you may use an existing crypto library such as PyCrypto (Python), Crypto++ (C++), or any other. While it is fine to use the built-in AES functions, we ask that as a learning experience you implement CBC and CTR modes yourself."
   ]
  },
  {
   "cell_type": "markdown",
   "metadata": {},
   "source": [
    "Question 1\n",
    "\n",
    "+ CBC key: 140b41b22a29beb4061bda66b6747e14\n",
    "+ CBC Ciphertext 1: 4ca00ff4c898d61e1edbf1800618fb2828a226d160dad07883d04e008a7897ee2e4b7465d5290d0c0e6c6822236e1daafb94ffe0c5da05d9476be028ad7c1d81\n",
    "\n",
    "*Basic CBC mode encryption needs padding.*"
   ]
  },
  {
   "cell_type": "markdown",
   "metadata": {},
   "source": [
    "Question 2\n",
    "\n",
    "+ CBC key: 140b41b22a29beb4061bda66b6747e14\n",
    "+ CBC Ciphertext 2: 5b68629feb8606f9a6667670b75b38a5b4832d0f26e1ab7da33249de7d4afc48e713ac646ace36e872ad5fb8a512428a6e21364b0c374df45503473c5242a253\n",
    "\n",
    "_Our implementation uses rand. IV_"
   ]
  },
  {
   "cell_type": "markdown",
   "metadata": {},
   "source": [
    "Question 3\n",
    "\n",
    "+ CTR key: 36f18357be4dbd77f050515c73fcf9f2\n",
    "+ CTR Ciphertext 1: 69dda8455c7dd4254bf353b773304eec0ec7702330098ce7f7520d1cbbb20fc388d1b0adb5054dbd7370849dbf0b88d393f252e764f1f5f7ad97ef79d59ce29f5f51eeca32eabedd9afa9329\n",
    "\n",
    "Send the answer"
   ]
  },
  {
   "cell_type": "markdown",
   "metadata": {},
   "source": [
    "Question 4\n",
    "\n",
    "+ CTR key: 36f18357be4dbd77f050515c73fcf9f2\n",
    "+ CTR Ciphertext 2: 770b80259ec33beb2561358a9f2dc617e46218c0a53cbeca695ae45faa8952aa0e311bde9d4e01726d3184c34451\n",
    "\n",
    "Send the answer"
   ]
  },
  {
   "cell_type": "markdown",
   "metadata": {},
   "source": [
    "### Solutions"
   ]
  },
  {
   "cell_type": "code",
   "execution_count": 1,
   "metadata": {},
   "outputs": [],
   "source": [
    "import os\n",
    "from cryptography.hazmat.primitives.ciphers import Cipher, algorithms, modes\n",
    "from cryptography.hazmat.backends import default_backend"
   ]
  },
  {
   "cell_type": "markdown",
   "metadata": {},
   "source": [
    "### CBC Mode"
   ]
  },
  {
   "cell_type": "code",
   "execution_count": 8,
   "metadata": {},
   "outputs": [
    {
     "data": {
      "text/plain": [
       "b'Our implementation uses rand. IV\\x10\\x10\\x10\\x10\\x10\\x10\\x10\\x10\\x10\\x10\\x10\\x10\\x10\\x10\\x10\\x10'"
      ]
     },
     "execution_count": 8,
     "metadata": {},
     "output_type": "execute_result"
    }
   ],
   "source": [
    "from cryptography.hazmat.primitives import padding\n",
    "backend = default_backend()\n",
    "iv = os.urandom(16)\n",
    "key = bytes.fromhex(\"140b41b22a29beb4061bda66b6747e14\")\n",
    "cipher = Cipher(algorithms.AES(key), modes.CBC(iv), backend=backend)\n",
    "#ct = bytes.fromhex(\"4ca00ff4c898d61e1edbf1800618fb2828a226d160dad07883d04e008a7897ee2e4b7465d5290d0c0e6c6822236e1daafb94ffe0c5da05d9476be028ad7c1d81\")\n",
    "ct = bytes.fromhex(\"5b68629feb8606f9a6667670b75b38a5b4832d0f26e1ab7da33249de7d4afc48e713ac646ace36e872ad5fb8a512428a6e21364b0c374df45503473c5242a253\")\n",
    "unpadder = padding.PKCS7(128).unpadder()\n",
    "unpadded_data = unpadder.update(ct)\n",
    "decryptor = cipher.decryptor()\n",
    "plain_text = decryptor.update(ct) + decryptor.finalize()\n",
    "plain_text[16:] # remove iv"
   ]
  },
  {
   "cell_type": "markdown",
   "metadata": {},
   "source": [
    "### CTR Mode"
   ]
  },
  {
   "cell_type": "code",
   "execution_count": 3,
   "metadata": {},
   "outputs": [
    {
     "data": {
      "text/plain": [
       "b'\\xcc\\x98+=\\x0c\\xdd\\x85\\x0b\\x9buwb\\xac\\xe2\\x9f\\xd6\\xf7\\x0e\\x87\\xdd\\xf3\\x98\\x0f\\x9eP\\x8b\\xc8\\xc7\\xb4-u\\xfc\\x8bK\\x86\\xfc\\xfa]\\xa1\\x8e\\x90\\xda\\xa1.!\\xe4;B\\xe6y\\xfc\\xdae\\x88\\x80\\xd5\\xe2%>M\\xa9K5?\\x18\\\\\\xd0\\xd2?]3l^\\xb1\\xa6\\xea'"
      ]
     },
     "execution_count": 3,
     "metadata": {},
     "output_type": "execute_result"
    }
   ],
   "source": [
    "backend = default_backend()\n",
    "iv = os.urandom(16)\n",
    "key = bytes.fromhex(\"36f18357be4dbd77f050515c73fcf9f2\")\n",
    "cipher = Cipher(algorithms.AES(key), modes.CTR(iv), backend=backend)\n",
    "ct = bytes.fromhex(\"69dda8455c7dd4254bf353b773304eec0ec7702330098ce7f7520d1cbbb20fc388d1b0adb5054dbd7370849dbf0b88d393f252e764f1f5f7ad97ef79d59ce29f5f51eeca32eabedd9afa9329\")\n",
    "#ct = bytes.fromhex(\"770b80259ec33beb2561358a9f2dc617e46218c0a53cbeca695ae45faa8952aa0e311bde9d4e01726d3184c34451\")\n",
    "decryptor = cipher.decryptor()\n",
    "plain_text = decryptor.update(ct) + decryptor.finalize()\n",
    "plain_text"
   ]
  },
  {
   "cell_type": "code",
   "execution_count": 4,
   "metadata": {},
   "outputs": [
    {
     "name": "stdout",
     "output_type": "stream",
     "text": [
      "124 7.75\n"
     ]
    }
   ],
   "source": [
    "m1 = len(\"If qualified opinions incline to believe in the exponential conjecture, then I think we cannot afford not to make use of it.\")\n",
    "print(m1, m1/16)\n",
    "# The number of blocks must be 8, built from the message, after adding the iv, that is one block of 16 bytes and the padding"
   ]
  }
 ],
 "metadata": {
  "kernelspec": {
   "display_name": "Python 3",
   "language": "python",
   "name": "python3"
  },
  "language_info": {
   "codemirror_mode": {
    "name": "ipython",
    "version": 3
   },
   "file_extension": ".py",
   "mimetype": "text/x-python",
   "name": "python",
   "nbconvert_exporter": "python",
   "pygments_lexer": "ipython3",
   "version": "3.6.5"
  }
 },
 "nbformat": 4,
 "nbformat_minor": 2
}
