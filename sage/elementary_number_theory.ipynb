{
 "cells": [
  {
   "cell_type": "markdown",
   "metadata": {},
   "source": [
    "## Number Theory\n",
    "Examples from the book: [Stein, Elementary Number Theory](https://wstein.org/books/ent/). The examples use [Sage](http://www.sagemath.org/), a math library, and the Python programming language. \n",
    "\n",
    "**Add info about the key exchange problem and how it can be solved using one-way functions that are based on difficult problems such as** \n",
    "1. the factorization of a large number, such as in RSA\n",
    "2. the computation of discrete logarithms\n",
    "\n",
    "Both of them are based of Number Theory whose concepts and results will be summarized here."
   ]
  },
  {
   "cell_type": "markdown",
   "metadata": {},
   "source": [
    "## Prime Numbers\n",
    "The set of natural numbers is N = {1,2,3,4,...}  \n",
    "The set of integers is Z = {...,-2,-1,0,1,2,...}  "
   ]
  },
  {
   "cell_type": "code",
   "execution_count": 609,
   "metadata": {},
   "outputs": [
    {
     "data": {
      "text/plain": [
       "[-5, -4, -3, -2, -1, 0, 1, 2, 3, 4]"
      ]
     },
     "execution_count": 609,
     "metadata": {},
     "output_type": "execute_result"
    }
   ],
   "source": [
    "range(-5,5)"
   ]
  },
  {
   "cell_type": "markdown",
   "metadata": {},
   "source": [
    "An integer n > 1 is a prime if the only positive divisors of n are 1 and n. If a number n is not divisible by any prime up to $\\sqrt{n}$, it must be a prime for any composite number has at least two prime factors and they cannot be both greater than $\\sqrt{n}$"
   ]
  },
  {
   "cell_type": "code",
   "execution_count": 79,
   "metadata": {},
   "outputs": [
    {
     "data": {
      "text/plain": [
       "[11, 13, 17, 19, 23, 29, 31, 37, 41, 43, 47]"
      ]
     },
     "execution_count": 79,
     "metadata": {},
     "output_type": "execute_result"
    }
   ],
   "source": [
    "prime_range(10,50)"
   ]
  },
  {
   "cell_type": "markdown",
   "metadata": {},
   "source": [
    "Composites are integers that are not primes"
   ]
  },
  {
   "cell_type": "code",
   "execution_count": 2,
   "metadata": {},
   "outputs": [
    {
     "data": {
      "text/plain": [
       "[10, 12, 14, 15, 16, 18, 20, 21, 22, 24, 25, 26, 27, 28]"
      ]
     },
     "execution_count": 2,
     "metadata": {},
     "output_type": "execute_result"
    }
   ],
   "source": [
    "[n for n in range(10,30) if not is_prime(n)]"
   ]
  },
  {
   "cell_type": "markdown",
   "metadata": {},
   "source": [
    "#### Definition: Greatest Common Divisor\n",
    "Given two integers a and b, it is the greatest integers that divides both a and b. Here follow some examples showing some facts about gcd "
   ]
  },
  {
   "cell_type": "code",
   "execution_count": 5,
   "metadata": {},
   "outputs": [
    {
     "data": {
      "text/plain": [
       "3"
      ]
     },
     "execution_count": 5,
     "metadata": {},
     "output_type": "execute_result"
    }
   ],
   "source": [
    "gcd(9,12)"
   ]
  },
  {
   "cell_type": "code",
   "execution_count": 6,
   "metadata": {},
   "outputs": [
    {
     "data": {
      "text/plain": [
       "4"
      ]
     },
     "execution_count": 6,
     "metadata": {},
     "output_type": "execute_result"
    }
   ],
   "source": [
    "gcd(0,4)"
   ]
  },
  {
   "cell_type": "code",
   "execution_count": 12,
   "metadata": {},
   "outputs": [
    {
     "data": {
      "text/plain": [
       "3"
      ]
     },
     "execution_count": 12,
     "metadata": {},
     "output_type": "execute_result"
    }
   ],
   "source": [
    "gcd(9,12 - 9)"
   ]
  },
  {
   "cell_type": "code",
   "execution_count": 13,
   "metadata": {},
   "outputs": [
    {
     "data": {
      "text/plain": [
       "3"
      ]
     },
     "execution_count": 13,
     "metadata": {},
     "output_type": "execute_result"
    }
   ],
   "source": [
    "gcd(9,12 + 9)"
   ]
  },
  {
   "cell_type": "code",
   "execution_count": 14,
   "metadata": {},
   "outputs": [
    {
     "data": {
      "text/plain": [
       "3"
      ]
     },
     "execution_count": 14,
     "metadata": {},
     "output_type": "execute_result"
    }
   ],
   "source": [
    "gcd(9,12 - 5*9)"
   ]
  },
  {
   "cell_type": "code",
   "execution_count": 11,
   "metadata": {},
   "outputs": [
    {
     "data": {
      "text/plain": [
       "3"
      ]
     },
     "execution_count": 11,
     "metadata": {},
     "output_type": "execute_result"
    }
   ],
   "source": [
    "gcd(9,12 + 5*9)"
   ]
  },
  {
   "cell_type": "code",
   "execution_count": 64,
   "metadata": {},
   "outputs": [
    {
     "data": {
      "text/plain": [
       "30"
      ]
     },
     "execution_count": 64,
     "metadata": {},
     "output_type": "execute_result"
    }
   ],
   "source": [
    "gcd(9*10,12*10)"
   ]
  },
  {
   "cell_type": "markdown",
   "metadata": {},
   "source": [
    "#### Relatively prime\n",
    "Two integers a,b, are said to be relatively prime, i.e. the only common divisor is 1, if gcd(a,b) = 1. Being a,b relatively prime does not imply a nor b is prime."
   ]
  },
  {
   "cell_type": "code",
   "execution_count": 171,
   "metadata": {},
   "outputs": [
    {
     "data": {
      "text/plain": [
       "1"
      ]
     },
     "execution_count": 171,
     "metadata": {},
     "output_type": "execute_result"
    }
   ],
   "source": [
    "gcd(14,9)"
   ]
  },
  {
   "cell_type": "markdown",
   "metadata": {},
   "source": [
    "#### Division Algorithm\n",
    "Given two integers a and b, with b != 0, there exists unique integers q, the quotient, and r, the remainder, such that 0 <= r < |b| and a = bq + r "
   ]
  },
  {
   "cell_type": "code",
   "execution_count": 60,
   "metadata": {},
   "outputs": [
    {
     "data": {
      "text/plain": [
       "(1, 986)"
      ]
     },
     "execution_count": 60,
     "metadata": {},
     "output_type": "execute_result"
    }
   ],
   "source": [
    "a = 2261\n",
    "b = 1275\n",
    "q = a//b # quotient\n",
    "r = a%b  # remainder r = a - b*q \n",
    "q,r"
   ]
  },
  {
   "cell_type": "code",
   "execution_count": 38,
   "metadata": {},
   "outputs": [
    {
     "data": {
      "text/plain": [
       "True"
      ]
     },
     "execution_count": 38,
     "metadata": {},
     "output_type": "execute_result"
    }
   ],
   "source": [
    "a == b*q + r"
   ]
  },
  {
   "cell_type": "markdown",
   "metadata": {},
   "source": [
    "#### Algorithm: Greatest Common Division (Euclidean Algorithm)\n",
    "A recursive function to compute the greatest common divisor."
   ]
  },
  {
   "cell_type": "code",
   "execution_count": 231,
   "metadata": {},
   "outputs": [],
   "source": [
    "def recgcd(a,b):\n",
    "    if b > a :\n",
    "        c = a\n",
    "        a = b\n",
    "        b = c\n",
    "    r = a%b\n",
    "    if r == 0 :\n",
    "        return b\n",
    "    else :\n",
    "        return recgcd(b,r)"
   ]
  },
  {
   "cell_type": "code",
   "execution_count": 232,
   "metadata": {},
   "outputs": [
    {
     "data": {
      "text/plain": [
       "17"
      ]
     },
     "execution_count": 232,
     "metadata": {},
     "output_type": "execute_result"
    }
   ],
   "source": [
    "recgcd(1275,2261)"
   ]
  },
  {
   "cell_type": "markdown",
   "metadata": {},
   "source": [
    "If d = gcd(a,b) then \n",
    "\n",
    "$\\exists$ x,y $\\in$ Z | ax + by = d  \n",
    "\n",
    "This follows from the fact that since d|a and d|b there must be two integers x,y for which d = ax + by. This same result shows that a linear equation of the form ax + by = d, also known as Diophantine equation, where x and y are integers, has a solution only if d is a multiple of the greatest common divisor of a and b. Sage provides a function to compute the gcd and x and y"
   ]
  },
  {
   "cell_type": "code",
   "execution_count": 235,
   "metadata": {},
   "outputs": [
    {
     "data": {
      "text/plain": [
       "(1, 2, -3)"
      ]
     },
     "execution_count": 235,
     "metadata": {},
     "output_type": "execute_result"
    }
   ],
   "source": [
    "xgcd(14,9)"
   ]
  },
  {
   "cell_type": "markdown",
   "metadata": {},
   "source": [
    "#### Fundamental Theorem of Arithmetic (Euclid)\n",
    "Every natural number n can be written as a product of primes  \n",
    "n = p1^e1*p2^e2..pr^er  \n",
    "where p1,p2,..pr are distinct primes and e1,e2,..er are positive integers, and that product is unique."
   ]
  },
  {
   "cell_type": "code",
   "execution_count": 76,
   "metadata": {},
   "outputs": [
    {
     "data": {
      "text/plain": [
       "3 * 5"
      ]
     },
     "execution_count": 76,
     "metadata": {},
     "output_type": "execute_result"
    }
   ],
   "source": [
    "factor(15)"
   ]
  },
  {
   "cell_type": "markdown",
   "metadata": {},
   "source": [
    "#### Algorithm: Prime Sieve\n",
    "Given a positive integer n, this algorithm computes a list of primes from 2 up to n."
   ]
  },
  {
   "cell_type": "code",
   "execution_count": 160,
   "metadata": {},
   "outputs": [],
   "source": [
    "def primeSieve(n): \n",
    "    # recursive subfunction\n",
    "    def crossOff(n,odds,primes): \n",
    "        p = odds[0] \n",
    "        if p > sqrt(n):\n",
    "            [primes.append(odd) for odd in odds]\n",
    "        else:\n",
    "            primes.append(p)\n",
    "            odds = [odd for odd in odds if not odd%p == 0]\n",
    "            crossOff(n,odds,primes)\n",
    "        return primes\n",
    "    \n",
    "    primes = [2]\n",
    "    odds = [j for j in range(3,n) if not j%2 == 0]\n",
    "    \n",
    "    return crossOff(n,odds,primes)"
   ]
  },
  {
   "cell_type": "code",
   "execution_count": 161,
   "metadata": {},
   "outputs": [
    {
     "data": {
      "text/plain": [
       "[2, 3, 5, 7, 11, 13, 17, 19, 23, 29, 31, 37]"
      ]
     },
     "execution_count": 161,
     "metadata": {},
     "output_type": "execute_result"
    }
   ],
   "source": [
    "primeSieve(40)"
   ]
  },
  {
   "cell_type": "markdown",
   "metadata": {},
   "source": [
    "The same can be computed using Sage"
   ]
  },
  {
   "cell_type": "markdown",
   "metadata": {},
   "source": [
    "#### Number of primes in an interval\n",
    "Sage provides a quick function to compute pi(x), the number of primes from 2 up to a number x. It can also be shown that the ratio between the function pi(x) and x/log(x) is asymptotically equal to 1."
   ]
  },
  {
   "cell_type": "code",
   "execution_count": 95,
   "metadata": {},
   "outputs": [
    {
     "data": {
      "image/png": "[encoded data removed]",
      "text/plain": [
       "Graphics object consisting of 2 graphics primitives"
      ]
     },
     "metadata": {},
     "output_type": "display_data"
    }
   ],
   "source": [
    "plot_prime = plot(prime_pi(x),2,1000,rgbcolor='blue')\n",
    "plot_asympt = plot(x/(log(x)),2,1000,rgbcolor='red')\n",
    "show(plot_prime + plot_asympt,xmin=0,figsize=[8,3])"
   ]
  },
  {
   "cell_type": "markdown",
   "metadata": {},
   "source": [
    "The ratio pi(x)/(log(x) - 1) is asymptotically equal to 1."
   ]
  },
  {
   "cell_type": "code",
   "execution_count": 97,
   "metadata": {},
   "outputs": [
    {
     "data": {
      "image/png": "[encoded data removed]",
      "text/plain": [
       "Graphics object consisting of 2 graphics primitives"
      ]
     },
     "metadata": {},
     "output_type": "display_data"
    }
   ],
   "source": [
    "plot_ratio = plot(prime_pi(x)*(log(x)-1)/x,2,1000,rgbcolor='red')\n",
    "plot_const = plot(1,2,1000,rgbcolor='blue')\n",
    "show(plot_ratio + plot_const,xmin=0,figsize=[8,3])"
   ]
  },
  {
   "cell_type": "markdown",
   "metadata": {},
   "source": [
    "## The Ring of Integers Modulo n"
   ]
  },
  {
   "cell_type": "markdown",
   "metadata": {},
   "source": [
    "We build the set of integers $Z_N$ where N is the modulus. This set of equivalent classes, or residue classes modulus N, divides the integers Z in N subsets, or rings for which the arithmetic operation of addition and multiplication apply in a similar way like for the integers in Z."
   ]
  },
  {
   "cell_type": "code",
   "execution_count": 312,
   "metadata": {},
   "outputs": [
    {
     "data": {
      "text/plain": [
       "[0, 1, 2, 3, 4, 5, 6, 7, 8, 9, 10]"
      ]
     },
     "execution_count": 312,
     "metadata": {},
     "output_type": "execute_result"
    }
   ],
   "source": [
    "Z11 = Integers(11) \n",
    "list(Z11)"
   ]
  },
  {
   "cell_type": "markdown",
   "metadata": {},
   "source": [
    "#### Congruences\n",
    "If a,b are integers and n is a natural number we say that a is congruent to b modulo n if n|a-b and write  a$\\equiv$b(mod n)  \n",
    "If a $\\equiv$ b (mod n) then there exists an integer ysuch that ny= a - b or a = ny+ b."
   ]
  },
  {
   "cell_type": "code",
   "execution_count": 314,
   "metadata": {},
   "outputs": [
    {
     "data": {
      "text/plain": [
       "[2, 2, 2, 2]"
      ]
     },
     "execution_count": 314,
     "metadata": {},
     "output_type": "execute_result"
    }
   ],
   "source": [
    "[Z11(11*y + 2) for y in range(1,5)]"
   ]
  },
  {
   "cell_type": "markdown",
   "metadata": {},
   "source": [
    "The set ($Z_N$)* are all the elements x of $Z_N$ for which gcd(x,N) = 1. One important property of ($Z_N$)* is that all its elements x have an inverse $x^-1$"
   ]
  },
  {
   "cell_type": "code",
   "execution_count": 361,
   "metadata": {},
   "outputs": [
    {
     "data": {
      "text/plain": [
       "[1, 2, 3, 4, 5, 6, 7, 8, 9, 10]"
      ]
     },
     "execution_count": 361,
     "metadata": {},
     "output_type": "execute_result"
    }
   ],
   "source": [
    "Z11_star = [x for x in Z11 if gcd(x,11) == 1]; Z11_star "
   ]
  },
  {
   "cell_type": "markdown",
   "metadata": {},
   "source": [
    "#### Linear Congruences\n",
    "For example the inverse of 3 in $(Z_{11})^*$ can be computed from the linear congruence $3x \\equiv$ 1 (mod 11). This equivalence can be written as a linear equation 3x = 11y + 1 and solved for y = 1 so that x = 4. We can show that $3^{-1} \\equiv$ 4 (mod 11) "
   ]
  },
  {
   "cell_type": "code",
   "execution_count": 602,
   "metadata": {},
   "outputs": [
    {
     "data": {
      "text/plain": [
       "1"
      ]
     },
     "execution_count": 602,
     "metadata": {},
     "output_type": "execute_result"
    }
   ],
   "source": [
    "Mod(3,11) * Mod(4,11)"
   ]
  },
  {
   "cell_type": "markdown",
   "metadata": {},
   "source": [
    "In the same way we can find, e.g. $5^{-1}\\equiv$ -2 (mod 11)"
   ]
  },
  {
   "cell_type": "code",
   "execution_count": 603,
   "metadata": {},
   "outputs": [
    {
     "data": {
      "text/plain": [
       "1"
      ]
     },
     "execution_count": 603,
     "metadata": {},
     "output_type": "execute_result"
    }
   ],
   "source": [
    "Mod(5,11) * Mod(9,11)"
   ]
  },
  {
   "cell_type": "markdown",
   "metadata": {},
   "source": [
    "The inverse x of an element a of $(Z_{n})^*$ such as in $ax\\equiv$ b (mod n), can be found using the Extended GCD Sage function xgcd(a,n) that solves the linear equation ax = ny + b , and returns gcd(a,n), equal to 1 if b = 1, x and y  "
   ]
  },
  {
   "cell_type": "code",
   "execution_count": 522,
   "metadata": {},
   "outputs": [
    {
     "data": {
      "text/plain": [
       "(1, 4, -1)"
      ]
     },
     "execution_count": 522,
     "metadata": {},
     "output_type": "execute_result"
    }
   ],
   "source": [
    "xgcd(3,11) # returns gcd(3,11), the inverse of 3 in Z11"
   ]
  },
  {
   "cell_type": "markdown",
   "metadata": {},
   "source": [
    "Sage has an even more straightforward fuction to compute inverses modulo n"
   ]
  },
  {
   "cell_type": "code",
   "execution_count": 523,
   "metadata": {},
   "outputs": [
    {
     "data": {
      "text/plain": [
       "4"
      ]
     },
     "execution_count": 523,
     "metadata": {},
     "output_type": "execute_result"
    }
   ],
   "source": [
    "Mod(3,11)^-1"
   ]
  },
  {
   "cell_type": "markdown",
   "metadata": {},
   "source": [
    "#### Order of an Element of $Z_N$\n",
    "There exists an exponent of x, h, for which $x^h \\equiv$ 1 (mod n). The smallest exponent h, for which the relation holds, is called the **order of x to the modulus n**. Let's see two examples for x = 2 and x = 3 (mod 11)"
   ]
  },
  {
   "cell_type": "code",
   "execution_count": 808,
   "metadata": {},
   "outputs": [
    {
     "data": {
      "text/plain": [
       "10"
      ]
     },
     "execution_count": 808,
     "metadata": {},
     "output_type": "execute_result"
    }
   ],
   "source": [
    "p = 11\n",
    "min([order for order in range(1,p) if Mod(2,p)^order == 1])"
   ]
  },
  {
   "cell_type": "code",
   "execution_count": 807,
   "metadata": {},
   "outputs": [
    {
     "data": {
      "text/plain": [
       "5"
      ]
     },
     "execution_count": 807,
     "metadata": {},
     "output_type": "execute_result"
    }
   ],
   "source": [
    "min([order for order in range(1,p) if Mod(3,p)^order == 1]) # In this case the least exponent is 5"
   ]
  },
  {
   "cell_type": "markdown",
   "metadata": {},
   "source": [
    "We can compute the order of all the elements in $(Z_{11})^*$ "
   ]
  },
  {
   "cell_type": "code",
   "execution_count": 806,
   "metadata": {},
   "outputs": [
    {
     "data": {
      "text/plain": [
       "[[1, 1],\n",
       " [2, 10],\n",
       " [3, 5],\n",
       " [4, 5],\n",
       " [5, 5],\n",
       " [6, 10],\n",
       " [7, 10],\n",
       " [8, 10],\n",
       " [9, 5],\n",
       " [10, 2]]"
      ]
     },
     "execution_count": 806,
     "metadata": {},
     "output_type": "execute_result"
    }
   ],
   "source": [
    "p = 11\n",
    "[[x,min([order for order in range(1,p) if Mod(x,p)^order == 1])] for x in range(1,p)]"
   ]
  },
  {
   "cell_type": "markdown",
   "metadata": {},
   "source": [
    "We can also use directly a function provided by Sage"
   ]
  },
  {
   "cell_type": "code",
   "execution_count": 625,
   "metadata": {},
   "outputs": [
    {
     "data": {
      "text/plain": [
       "[[1, 1],\n",
       " [2, 10],\n",
       " [3, 5],\n",
       " [4, 5],\n",
       " [5, 5],\n",
       " [6, 10],\n",
       " [7, 10],\n",
       " [8, 10],\n",
       " [9, 5],\n",
       " [10, 2]]"
      ]
     },
     "execution_count": 625,
     "metadata": {},
     "output_type": "execute_result"
    }
   ],
   "source": [
    "[[x,x.multiplicative_order()] for x in Z11_star]"
   ]
  },
  {
   "cell_type": "markdown",
   "metadata": {},
   "source": [
    "We can compute $9^5\\equiv$ 1 (mod 11) for example "
   ]
  },
  {
   "cell_type": "code",
   "execution_count": 620,
   "metadata": {},
   "outputs": [
    {
     "data": {
      "text/plain": [
       "1"
      ]
     },
     "execution_count": 620,
     "metadata": {},
     "output_type": "execute_result"
    }
   ],
   "source": [
    "Mod(9,11)^5"
   ]
  },
  {
   "cell_type": "markdown",
   "metadata": {},
   "source": [
    "#### Fermat's Little Theorem\n",
    "Formally the theorem can be stated as follow\n",
    "\n",
    "$\\forall x \\in (Z_p)^*, x^{p-1} \\equiv 1$ (mod p)\n",
    "\n",
    "In words, the equivalence holds if p is a prime and does not divide x, i.e. gcd(x,p) = 1. "
   ]
  },
  {
   "cell_type": "code",
   "execution_count": 796,
   "metadata": {},
   "outputs": [
    {
     "data": {
      "text/plain": [
       "[1, 1, 1, 1, 1, 1, 1, 1, 1, 1]"
      ]
     },
     "execution_count": 796,
     "metadata": {},
     "output_type": "execute_result"
    }
   ],
   "source": [
    "p = 11\n",
    "powers = [x^(p-1) for x in Z11_star]; powers"
   ]
  },
  {
   "cell_type": "markdown",
   "metadata": {},
   "source": [
    "Fermat's theorem can be used to test the primality of a number and to generate a random prime. First a random number p is generated, e.g. p $\\in [2^{1024},2^{1025} - 1]$, and then it is tested with the Fermat's theorem whether it is prime or not. Since 2 is the smallest prime, x is usually set to 2 so that any p > 2 cannot divide 2 and the primality test is performed with\n",
    "\n",
    "$2^{p-1} \\equiv 1$ (mod p)  \n",
    "\n",
    "If the equivalence does not hold, it means that p is certainly not a prime. If the equivalence does hold, it means that p is likely prime. The primality of a number can be tested in Sage. "
   ]
  },
  {
   "cell_type": "code",
   "execution_count": 147,
   "metadata": {},
   "outputs": [
    {
     "data": {
      "text/plain": [
       "False"
      ]
     },
     "execution_count": 147,
     "metadata": {},
     "output_type": "execute_result"
    }
   ],
   "source": [
    "def prime(p):\n",
    "    if p == 2 or Mod(2,p)^(p-1) == 1:\n",
    "        return true\n",
    "    else:\n",
    "        return false\n",
    "\n",
    "prime(323)"
   ]
  },
  {
   "cell_type": "markdown",
   "metadata": {},
   "source": [
    "Sage provides a function to test directly the primality of a number"
   ]
  },
  {
   "cell_type": "code",
   "execution_count": 148,
   "metadata": {},
   "outputs": [
    {
     "data": {
      "text/plain": [
       "False"
      ]
     },
     "execution_count": 148,
     "metadata": {},
     "output_type": "execute_result"
    }
   ],
   "source": [
    "is_prime(323)"
   ]
  },
  {
   "cell_type": "markdown",
   "metadata": {},
   "source": [
    "Fermat's theorem can also be used to compute the inverse since $x^{p-2}\\equiv x^{-1}$ (mod p)"
   ]
  },
  {
   "cell_type": "code",
   "execution_count": 155,
   "metadata": {},
   "outputs": [
    {
     "data": {
      "text/plain": [
       "3"
      ]
     },
     "execution_count": 155,
     "metadata": {},
     "output_type": "execute_result"
    }
   ],
   "source": [
    "p = 11\n",
    "x = Mod(3,p); x"
   ]
  },
  {
   "cell_type": "code",
   "execution_count": 156,
   "metadata": {},
   "outputs": [
    {
     "data": {
      "text/plain": [
       "4"
      ]
     },
     "execution_count": 156,
     "metadata": {},
     "output_type": "execute_result"
    }
   ],
   "source": [
    "a = Mod(3,p)^9; a"
   ]
  },
  {
   "cell_type": "code",
   "execution_count": 157,
   "metadata": {},
   "outputs": [
    {
     "data": {
      "text/plain": [
       "1"
      ]
     },
     "execution_count": 157,
     "metadata": {},
     "output_type": "execute_result"
    }
   ],
   "source": [
    "x * a"
   ]
  },
  {
   "cell_type": "markdown",
   "metadata": {},
   "source": [
    "#### Euler's function $\\phi(n)$\n",
    "It is defined for any positive integer n as: $\\phi(n) = |(Z_n)^*|$  In words, the Euler's function represents the number of elements in $Z_n$ that are relatively prime to n."
   ]
  },
  {
   "cell_type": "code",
   "execution_count": 618,
   "metadata": {},
   "outputs": [
    {
     "data": {
      "text/plain": [
       "[1, 5, 7, 11]"
      ]
     },
     "execution_count": 618,
     "metadata": {},
     "output_type": "execute_result"
    }
   ],
   "source": [
    "Z12 = Integers(12)\n",
    "Z12_star = [x for x in Z12 if gcd(x,12) == 1]; Z12_star"
   ]
  },
  {
   "cell_type": "code",
   "execution_count": 341,
   "metadata": {},
   "outputs": [
    {
     "data": {
      "text/plain": [
       "4"
      ]
     },
     "execution_count": 341,
     "metadata": {},
     "output_type": "execute_result"
    }
   ],
   "source": [
    "phi = len([x.multiplicative_order() for x in Z12_star]); phi"
   ]
  },
  {
   "cell_type": "markdown",
   "metadata": {},
   "source": [
    "It is also available from Sage"
   ]
  },
  {
   "cell_type": "code",
   "execution_count": 624,
   "metadata": {},
   "outputs": [
    {
     "data": {
      "text/plain": [
       "4"
      ]
     },
     "execution_count": 624,
     "metadata": {},
     "output_type": "execute_result"
    }
   ],
   "source": [
    "euler_phi(12)"
   ]
  },
  {
   "cell_type": "markdown",
   "metadata": {},
   "source": [
    "#### Euler's Theorem\n",
    "Formally the theorem can be stated as: $\\forall x \\in (Z_N)^*, x^{\\phi(N)} \\equiv 1$ (mod N)  "
   ]
  },
  {
   "cell_type": "code",
   "execution_count": 795,
   "metadata": {},
   "outputs": [
    {
     "data": {
      "text/plain": [
       "[1, 1, 1, 1]"
      ]
     },
     "execution_count": 795,
     "metadata": {},
     "output_type": "execute_result"
    }
   ],
   "source": [
    "[x^euler_phi(12) for x in Z12_star]"
   ]
  },
  {
   "cell_type": "markdown",
   "metadata": {},
   "source": [
    "\n",
    "Euler's theorem helps in computing the powers of congruences. For examples $7^9$ (mod 12).  \n",
    "Since $\\phi(12) = 4$ such that $7^4 \\equiv 1$ (mod 12) then  $7^9 \\equiv 7^{4+4+1} \\equiv 7^47^47^1 \\equiv 7^1$ (mod 12)"
   ]
  },
  {
   "cell_type": "code",
   "execution_count": 538,
   "metadata": {},
   "outputs": [
    {
     "data": {
      "text/plain": [
       "True"
      ]
     },
     "execution_count": 538,
     "metadata": {},
     "output_type": "execute_result"
    }
   ],
   "source": [
    "Mod(7,12)^9 == Mod(7,12)"
   ]
  },
  {
   "cell_type": "markdown",
   "metadata": {},
   "source": [
    "#### Modular exponentiation\n",
    "How to Compute $a^m$ (mod n)  \n",
    "\n",
    "A naive approach to computing $a^m$ (mod n) is to simply compute $a^m$ = a*a*...a, and then reduce by modulo m. This algorithm is inefficient because it requires m-1 multiplications, expecially when m has hundreds of digits. A much more efficient algorithm is the following\n",
    "\n",
    "1. Apply the Euler's theorem to reduce the exponent\n",
    "2. Compute the binary format of the remaining exponent\n",
    "3. Compute the squares of a modulo n according to the binary digits\n",
    "4. Compute the product of the squares of a\n",
    "\n",
    "The number of operations needed with this algorithm depends on the number of binary digits of m instead of on m-1."
   ]
  },
  {
   "cell_type": "markdown",
   "metadata": {},
   "source": [
    "For example, let's compute $7^{91} \\equiv$ (mod 100)"
   ]
  },
  {
   "cell_type": "code",
   "execution_count": 586,
   "metadata": {},
   "outputs": [
    {
     "data": {
      "text/plain": [
       "1"
      ]
     },
     "execution_count": 586,
     "metadata": {},
     "output_type": "execute_result"
    }
   ],
   "source": [
    "gcd(7,100) # 7 does not divide 100"
   ]
  },
  {
   "cell_type": "code",
   "execution_count": 849,
   "metadata": {},
   "outputs": [
    {
     "data": {
      "text/plain": [
       "6"
      ]
     },
     "execution_count": 849,
     "metadata": {},
     "output_type": "execute_result"
    }
   ],
   "source": [
    "euler_phi(100)"
   ]
  },
  {
   "cell_type": "markdown",
   "metadata": {},
   "source": [
    "Since $\\phi{(100)}$ = 40, then for the Euler's theorem, we can just compute $7^{11} \\equiv$ (mod 100)"
   ]
  },
  {
   "cell_type": "markdown",
   "metadata": {},
   "source": [
    "It's easy to transform the exponent in binary digits"
   ]
  },
  {
   "cell_type": "code",
   "execution_count": 588,
   "metadata": {},
   "outputs": [],
   "source": [
    "def binary(m,s=\"\"):\n",
    "    # A recursive function to change\n",
    "    # from digits to binary string\n",
    "    if m == 0:\n",
    "        return s \n",
    "    else:\n",
    "        if m%2 == 0:\n",
    "            s = \"0\" + s\n",
    "        else:\n",
    "            s = \"1\" + s\n",
    "        return binary(m//2,s)    "
   ]
  },
  {
   "cell_type": "code",
   "execution_count": 589,
   "metadata": {},
   "outputs": [
    {
     "data": {
      "text/plain": [
       "'1011'"
      ]
     },
     "execution_count": 589,
     "metadata": {},
     "output_type": "execute_result"
    }
   ],
   "source": [
    "binary(11)"
   ]
  },
  {
   "cell_type": "markdown",
   "metadata": {},
   "source": [
    "So 11 = $1*2^3$ + $0*2^2$ + $1*2^1$ + $1*2^0$. This means that we have just to compute repeatedly $7^2\\equiv$49 (mod 100) then $(7^2)^2\\equiv$1 (mod 100) and $((7^2)^2)^2\\equiv$1 (mod 100) so that $7^{11}\\equiv1*49*7 \\equiv$43 (mod 100) "
   ]
  },
  {
   "cell_type": "markdown",
   "metadata": {},
   "source": [
    "Sage implements the algorithm so that the example can be computed easily"
   ]
  },
  {
   "cell_type": "code",
   "execution_count": 597,
   "metadata": {},
   "outputs": [
    {
     "data": {
      "text/plain": [
       "43"
      ]
     },
     "execution_count": 597,
     "metadata": {},
     "output_type": "execute_result"
    }
   ],
   "source": [
    "Mod(7,100)^91"
   ]
  },
  {
   "cell_type": "markdown",
   "metadata": {},
   "source": [
    "#### The structure of $(Z_p)^*$"
   ]
  },
  {
   "cell_type": "markdown",
   "metadata": {},
   "source": [
    "If p is prime, then $\\phi(p)$ = p - 1 and $(Z_p)^*$ is cyclic group whose order is $\\phi(p)$ and for which there exist an element g $\\in (Z_p)^*$ whose powers from 2 up to p-2, i.e. {$g^2, g^3,...,g^{p-2}$} will span the entire set $(Z_p)^*$"
   ]
  },
  {
   "cell_type": "code",
   "execution_count": 6,
   "metadata": {},
   "outputs": [
    {
     "data": {
      "text/plain": [
       "[0, 1, 2, 3, 4, 5, 6]"
      ]
     },
     "execution_count": 6,
     "metadata": {},
     "output_type": "execute_result"
    }
   ],
   "source": [
    "Z7 = Integers(7)\n",
    "list(Z7)"
   ]
  },
  {
   "cell_type": "markdown",
   "metadata": {},
   "source": [
    "$(Z_7)^*$"
   ]
  },
  {
   "cell_type": "code",
   "execution_count": 7,
   "metadata": {},
   "outputs": [
    {
     "data": {
      "text/plain": [
       "[1, 2, 3, 4, 5, 6]"
      ]
     },
     "execution_count": 7,
     "metadata": {},
     "output_type": "execute_result"
    }
   ],
   "source": [
    "Z7_star = [x for x in Z7 if gcd(x,7) == 1]; Z7_star"
   ]
  },
  {
   "cell_type": "markdown",
   "metadata": {},
   "source": [
    "Let's see the set generated by raising 3 in $(Z_7)^*$ to the power of 2 up to 5. As we can see, the powers of 3 span the entire set $(Z_7)^*$. That is, 3 is a **generator** of $(Z_7)^*$."
   ]
  },
  {
   "cell_type": "code",
   "execution_count": 142,
   "metadata": {},
   "outputs": [
    {
     "data": {
      "text/plain": [
       "[1, 3, 2, 6, 4, 5]"
      ]
     },
     "execution_count": 142,
     "metadata": {},
     "output_type": "execute_result"
    }
   ],
   "source": [
    "p = 7\n",
    "[Mod(3,p)^n for n in range(p-1) if gcd(3,p) == 1 ]  # range(a) = [0,1,..,a)"
   ]
  },
  {
   "cell_type": "markdown",
   "metadata": {},
   "source": [
    "3 (mod 7) in $(Z_7)^*$ is called generator or primitive root modulo 7. Sage provides a function to compute the primitive root of $(Z_p)^*$"
   ]
  },
  {
   "cell_type": "code",
   "execution_count": 143,
   "metadata": {},
   "outputs": [
    {
     "data": {
      "text/plain": [
       "3"
      ]
     },
     "execution_count": 143,
     "metadata": {},
     "output_type": "execute_result"
    }
   ],
   "source": [
    "primitive_root(7)"
   ]
  },
  {
   "cell_type": "markdown",
   "metadata": {},
   "source": [
    "The order of the generator is equal to $\\phi(p)$ "
   ]
  },
  {
   "cell_type": "code",
   "execution_count": 144,
   "metadata": {},
   "outputs": [
    {
     "data": {
      "text/plain": [
       "6"
      ]
     },
     "execution_count": 144,
     "metadata": {},
     "output_type": "execute_result"
    }
   ],
   "source": [
    "p = 7\n",
    "generator = 3\n",
    "g = Mod(generator,p)\n",
    "g.multiplicative_order() "
   ]
  },
  {
   "cell_type": "code",
   "execution_count": 145,
   "metadata": {},
   "outputs": [
    {
     "data": {
      "text/plain": [
       "[1, 1, 1, 1, 1, 1]"
      ]
     },
     "execution_count": 145,
     "metadata": {},
     "output_type": "execute_result"
    }
   ],
   "source": [
    "[x^euler_phi(7) for x in Z7_star]"
   ]
  },
  {
   "cell_type": "markdown",
   "metadata": {},
   "source": [
    "As an additional example, we can compute the order of all the elements in $(Z_{11})^*$"
   ]
  },
  {
   "cell_type": "code",
   "execution_count": 146,
   "metadata": {},
   "outputs": [
    {
     "data": {
      "text/plain": [
       "[[1, 1],\n",
       " [2, 10],\n",
       " [3, 5],\n",
       " [4, 5],\n",
       " [5, 5],\n",
       " [6, 10],\n",
       " [7, 10],\n",
       " [8, 10],\n",
       " [9, 5],\n",
       " [10, 2]]"
      ]
     },
     "execution_count": 146,
     "metadata": {},
     "output_type": "execute_result"
    }
   ],
   "source": [
    "p = 11 # a prime number\n",
    "Zp = Integers(p)\n",
    "Zp_star = [x for x in Zp if gcd(x,p) == 1]\n",
    "element_order_list = [[x,min([order for order in range(1,p) if Mod(x,p)^order == 1])] for x in Zp_star]; element_order_list"
   ]
  },
  {
   "cell_type": "code",
   "execution_count": 134,
   "metadata": {},
   "outputs": [
    {
     "data": {
      "text/plain": [
       "[1, 2, 5, 10]"
      ]
     },
     "execution_count": 134,
     "metadata": {},
     "output_type": "execute_result"
    }
   ],
   "source": [
    "orders = sorted(Set([element_order_list[x][1] for x in range(0,p-1)])); orders"
   ]
  },
  {
   "cell_type": "markdown",
   "metadata": {},
   "source": [
    "The group $(Z_p)^*$ can be divided by subgroups according to the order of its elements"
   ]
  },
  {
   "cell_type": "code",
   "execution_count": 135,
   "metadata": {},
   "outputs": [
    {
     "data": {
      "text/plain": [
       "[[1, [1]], [2, [10]], [5, [3, 4, 5, 9]], [10, [2, 6, 7, 8]]]"
      ]
     },
     "execution_count": 135,
     "metadata": {},
     "output_type": "execute_result"
    }
   ],
   "source": [
    "elements_by_order = [[order,sorted([x[0] for x in element_order_list if x[1] == order])] for order in orders]; elements_by_order"
   ]
  },
  {
   "cell_type": "markdown",
   "metadata": {},
   "source": [
    "We compute the cardinality $\\phi(11)$ = $|(Z_{11})^*|$"
   ]
  },
  {
   "cell_type": "code",
   "execution_count": 136,
   "metadata": {},
   "outputs": [
    {
     "data": {
      "text/plain": [
       "10"
      ]
     },
     "execution_count": 136,
     "metadata": {},
     "output_type": "execute_result"
    }
   ],
   "source": [
    "G = len(Zp_star); G"
   ]
  },
  {
   "cell_type": "code",
   "execution_count": 137,
   "metadata": {},
   "outputs": [
    {
     "data": {
      "text/plain": [
       "[2, 6, 7, 8]"
      ]
     },
     "execution_count": 137,
     "metadata": {},
     "output_type": "execute_result"
    }
   ],
   "source": [
    "elements_highest_order = [x[1] for x in elements_by_order if x[0] == G][0]; elements_highest_order"
   ]
  },
  {
   "cell_type": "markdown",
   "metadata": {},
   "source": [
    "All the elements of $(Z_{11})^*$ whose order is equal to |$(Z_{11})^*$| are primitive and can generate all the other elements as shown below"
   ]
  },
  {
   "cell_type": "code",
   "execution_count": 138,
   "metadata": {},
   "outputs": [
    {
     "data": {
      "text/plain": [
       "[[1, 2, 3, 4, 5, 6, 7, 8, 9, 10],\n",
       " [1, 2, 3, 4, 5, 6, 7, 8, 9, 10],\n",
       " [1, 2, 3, 4, 5, 6, 7, 8, 9, 10],\n",
       " [1, 2, 3, 4, 5, 6, 7, 8, 9, 10]]"
      ]
     },
     "execution_count": 138,
     "metadata": {},
     "output_type": "execute_result"
    }
   ],
   "source": [
    "[sorted([Mod(x,p)^n for n in range(1,p) if gcd(x,p) == 1 ]) for x in elements_highest_order] "
   ]
  },
  {
   "cell_type": "markdown",
   "metadata": {},
   "source": [
    "The number of generators in $(Z_p)^*$ can be computed by $\\phi(|(Z_p)^*|)$"
   ]
  },
  {
   "cell_type": "code",
   "execution_count": 139,
   "metadata": {},
   "outputs": [
    {
     "data": {
      "text/plain": [
       "4"
      ]
     },
     "execution_count": 139,
     "metadata": {},
     "output_type": "execute_result"
    }
   ],
   "source": [
    "euler_phi(G)"
   ]
  },
  {
   "cell_type": "markdown",
   "metadata": {},
   "source": [
    "Elements whose order is different from |$(Z_{11})^*$| cannot generate all the elements"
   ]
  },
  {
   "cell_type": "code",
   "execution_count": 140,
   "metadata": {},
   "outputs": [
    {
     "data": {
      "text/plain": [
       "[1, 3, 4, 5, 9]"
      ]
     },
     "execution_count": 140,
     "metadata": {},
     "output_type": "execute_result"
    }
   ],
   "source": [
    "sorted(Set([Mod(3,p)^n for n in range(1,p) if gcd(6,p) == 1 ]))"
   ]
  },
  {
   "cell_type": "markdown",
   "metadata": {},
   "source": [
    "As we can see the orders of each element of $(Z_{11})^*$ divide $|(Z_{11})^*|$. More in general, $\\forall$ x $\\in (Z_p)^*$, ord(x) | |$(Z_p)^*$|. It can also be shown that if |$(Z_p)^*$| is prime, then all elements in $(Z_p)^*$, but 1 (mod p), are prime."
   ]
  },
  {
   "cell_type": "markdown",
   "metadata": {},
   "source": [
    "#### Polynomials over $Z_p$"
   ]
  },
  {
   "cell_type": "markdown",
   "metadata": {},
   "source": [
    "We will focus of quadratic polynomials of the form $ax^2+bx+c\\equiv$ 0 (mod n)  \n",
    "By definition, a **quadratic residue** is any element a of $Z_p$, not divisible by p, for which $a^2\\equiv$ 1 (mod p)"
   ]
  },
  {
   "cell_type": "code",
   "execution_count": 765,
   "metadata": {},
   "outputs": [
    {
     "data": {
      "text/plain": [
       "[1, 10]"
      ]
     },
     "execution_count": 765,
     "metadata": {},
     "output_type": "execute_result"
    }
   ],
   "source": [
    "p = 11\n",
    "QR = [x for x in range(1,p) if gcd(x,p) == 1 and Mod(x,p)^2 == 1]; QR # QR = Quadratic Residue"
   ]
  },
  {
   "cell_type": "markdown",
   "metadata": {},
   "source": [
    "Quadratic residues in $Z_p$ have also square roots. Sage provides a function to compute the roots of a polynomial. For example in $Z_{13}$ since $\\phi(13)$ = 6, then from the Euler's theorem $x^6\\equiv$1 (mod 13) and the primitive roots can be computed solving the polynomial function $x^6 - 1$ in $Z_{13}$"
   ]
  },
  {
   "cell_type": "code",
   "execution_count": 2,
   "metadata": {},
   "outputs": [
    {
     "data": {
      "text/plain": [
       "4"
      ]
     },
     "execution_count": 2,
     "metadata": {},
     "output_type": "execute_result"
    }
   ],
   "source": [
    "euler_phi(10)"
   ]
  },
  {
   "cell_type": "code",
   "execution_count": 755,
   "metadata": {},
   "outputs": [
    {
     "data": {
      "text/plain": [
       "[(12, 1), (10, 1), (9, 1), (4, 1), (3, 1), (1, 1)]"
      ]
     },
     "execution_count": 755,
     "metadata": {},
     "output_type": "execute_result"
    }
   ],
   "source": [
    "Z13.<x> = PolynomialRing(Integers(13))\n",
    "f = x^6 - 1\n",
    "f.roots()"
   ]
  },
  {
   "cell_type": "markdown",
   "metadata": {},
   "source": [
    "Let's find the quadratic residues modulo 5"
   ]
  },
  {
   "cell_type": "code",
   "execution_count": 773,
   "metadata": {},
   "outputs": [
    {
     "data": {
      "text/plain": [
       "[0, 1, 2, 3, 4]"
      ]
     },
     "execution_count": 773,
     "metadata": {},
     "output_type": "execute_result"
    }
   ],
   "source": [
    "Z5 = Integers(5)\n",
    "list(Z5)"
   ]
  },
  {
   "cell_type": "code",
   "execution_count": 763,
   "metadata": {},
   "outputs": [
    {
     "data": {
      "text/plain": [
       "[1, 4]"
      ]
     },
     "execution_count": 763,
     "metadata": {},
     "output_type": "execute_result"
    }
   ],
   "source": [
    "p = 5\n",
    "QR = [x for x in range(1,p) if gcd(x,p) == 1 and Mod(x,p)^2 == 1]; QR"
   ]
  },
  {
   "cell_type": "markdown",
   "metadata": {},
   "source": [
    "The elements in $Z_p$ that are not quadratic residues are called called simply quadratic nonresidue. The two types of elements are differentiated using the **Legendre Symbols**\n",
    "\n",
    "+ 1 for the quadratic residues\n",
    "+ -1 for the quadratic nonresidues  \n",
    "\n",
    "For example, 1 and 4 are quadratic residues in $(Z_5)^*$ while 2 and 3 are quadratic nonresidues."
   ]
  },
  {
   "cell_type": "code",
   "execution_count": 771,
   "metadata": {},
   "outputs": [
    {
     "data": {
      "text/plain": [
       "[[1, 1], [2, -1], [3, -1], [4, 1]]"
      ]
     },
     "execution_count": 771,
     "metadata": {},
     "output_type": "execute_result"
    }
   ],
   "source": [
    "p = 5\n",
    "[[x,legendre_symbol(Mod(x,p),p)] for x in range(1,p) if gcd(x,p) == 1]"
   ]
  },
  {
   "cell_type": "markdown",
   "metadata": {},
   "source": [
    "#### Euler's Criterion\n",
    "An element a $\\in (Z_p)^*$ is a quadratic residue if and only if $a^{(p-1)/2}\\equiv$ 1 (mod p)"
   ]
  },
  {
   "cell_type": "code",
   "execution_count": 141,
   "metadata": {},
   "outputs": [
    {
     "data": {
      "text/plain": [
       "[1, 3, 4, 5, 9]"
      ]
     },
     "execution_count": 141,
     "metadata": {},
     "output_type": "execute_result"
    }
   ],
   "source": [
    "p = 11\n",
    "QR = [a for a in range(1,p) if gcd(a,p) == 1 and Mod(a,p)^((p-1)//2) == 1]; QR"
   ]
  },
  {
   "cell_type": "markdown",
   "metadata": {},
   "source": [
    "#### Discrete Logarithms \n",
    "The problem is, given a large prime number p and two elements a,b $\\in (Z_p)^*$, to find out the value of an integer 1 $\\le x \\le p-1$ such that $a^x\\equiv$ b (mod p). In other words, the problem is to compute $x\\equiv log_a b$ (mod p) "
   ]
  },
  {
   "cell_type": "code",
   "execution_count": 158,
   "metadata": {},
   "outputs": [
    {
     "data": {
      "text/plain": [
       "5"
      ]
     },
     "execution_count": 158,
     "metadata": {},
     "output_type": "execute_result"
    }
   ],
   "source": [
    "p = 97 # p prime number \n",
    "g = primitive_root(p); g # generator, with 1 < g < p"
   ]
  },
  {
   "cell_type": "code",
   "execution_count": 159,
   "metadata": {},
   "outputs": [
    {
     "name": "stdout",
     "output_type": "stream",
     "text": [
      "(5, 8, 6)\n"
     ]
    }
   ],
   "source": [
    "a = Mod(g,p)\n",
    "x = randint(1,p)\n",
    "b = a^x\n",
    "print(a,x,b)"
   ]
  },
  {
   "cell_type": "markdown",
   "metadata": {},
   "source": [
    "A naive solution to the problem of finding the discrete logarithm is to simply try different values of the exponent till it matches $a^x$(mod p)."
   ]
  },
  {
   "cell_type": "code",
   "execution_count": 160,
   "metadata": {},
   "outputs": [
    {
     "data": {
      "text/plain": [
       "8"
      ]
     },
     "execution_count": 160,
     "metadata": {},
     "output_type": "execute_result"
    }
   ],
   "source": [
    "x_match = [x_test for x_test in range(p) if Mod(g,p)^x_test == b ][0]; x_match"
   ]
  },
  {
   "cell_type": "code",
   "execution_count": 161,
   "metadata": {},
   "outputs": [
    {
     "data": {
      "text/plain": [
       "True"
      ]
     },
     "execution_count": 161,
     "metadata": {},
     "output_type": "execute_result"
    }
   ],
   "source": [
    "x_match == x"
   ]
  },
  {
   "cell_type": "markdown",
   "metadata": {},
   "source": [
    "The problem with the naive approach is that it becomes infeasible for modulus p with hundreds of digits."
   ]
  },
  {
   "cell_type": "markdown",
   "metadata": {},
   "source": [
    "#### Diffie-Hellman protocol\n",
    "Here we implement the Diffie-Hellman protocol in which the eavesdropper would have to compute the discrete logarithm of a large number in order to find out the secret key shared by Alice and Bob to encrypt their messages."
   ]
  },
  {
   "cell_type": "code",
   "execution_count": 176,
   "metadata": {},
   "outputs": [
    {
     "name": "stdout",
     "output_type": "stream",
     "text": [
      "(682723, 2)\n"
     ]
    }
   ],
   "source": [
    "p = random_prime(10^6,10^9) # Alice chooses a big prime number p and a generator and send them to Bob over a public insecure network \n",
    "g = primitive_root(p) # generator, with 1 < g < p\n",
    "print(p,g)"
   ]
  },
  {
   "cell_type": "code",
   "execution_count": 177,
   "metadata": {},
   "outputs": [
    {
     "name": "stdout",
     "output_type": "stream",
     "text": [
      "(332902, 111948, 308027, 72029)\n"
     ]
    }
   ],
   "source": [
    "n = randint(1,p) # Alice' secret key, a random number chosen uniformly from the set of integers {1,2,...,p-1}\n",
    "m = randint(1,p) # Bob's secret key, a random number chosen uniformly from the set of integers {1,2,...,p-1}\n",
    "g_exp_n = Mod(g,p)^n # Alice sends this number to Michael over a public network\n",
    "g_exp_m = Mod(g,p)^m # Bob sends this number to Nikita over a public network\n",
    "print(n,m,g_exp_n,g_exp_m)"
   ]
  },
  {
   "cell_type": "code",
   "execution_count": 180,
   "metadata": {},
   "outputs": [
    {
     "data": {
      "text/plain": [
       "True"
      ]
     },
     "execution_count": 180,
     "metadata": {},
     "output_type": "execute_result"
    }
   ],
   "source": [
    "sm = g_exp_n^m # shared secret key computed by Bob\n",
    "sn = g_exp_m^n # shared secret key computed by Alice\n",
    "sm == sn # Alice and Bob share the same key  Mod(g,p)^(n*m), that supposedly no one else knows, to encrypt their messages"
   ]
  },
  {
   "cell_type": "markdown",
   "metadata": {},
   "source": [
    "An eavesdropper, that wants to find out the secret key shared by Alice and Bob, has to extract n from $g^n$(mod p) or m from $g^m$(mod p) by computing, e.g. $log_g(g^n)$(mod p)."
   ]
  },
  {
   "cell_type": "code",
   "execution_count": 179,
   "metadata": {},
   "outputs": [
    {
     "data": {
      "text/plain": [
       "332902"
      ]
     },
     "execution_count": 179,
     "metadata": {},
     "output_type": "execute_result"
    }
   ],
   "source": [
    "n_match = [n_test for n_test in range(p) if Mod(g,p)^n_test == g_exp_n ][0]; n_match"
   ]
  },
  {
   "cell_type": "code",
   "execution_count": 181,
   "metadata": {},
   "outputs": [
    {
     "data": {
      "text/plain": [
       "True"
      ]
     },
     "execution_count": 181,
     "metadata": {},
     "output_type": "execute_result"
    }
   ],
   "source": [
    "broken_secret_key = g_exp_m^n_match\n",
    "broken_secret_key == sn"
   ]
  },
  {
   "cell_type": "code",
   "execution_count": null,
   "metadata": {},
   "outputs": [],
   "source": []
  }
 ],
 "metadata": {
  "kernelspec": {
   "display_name": "SageMath 8.5",
   "language": "",
   "name": "sagemath"
  },
  "language_info": {
   "codemirror_mode": {
    "name": "ipython",
    "version": 2
   },
   "file_extension": ".py",
   "mimetype": "text/x-python",
   "name": "python",
   "nbconvert_exporter": "python",
   "pygments_lexer": "ipython2",
   "version": "2.7.15"
  }
 },
 "nbformat": 4,
 "nbformat_minor": 2
}
